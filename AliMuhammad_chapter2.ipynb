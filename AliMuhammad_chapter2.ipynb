{
 "cells": [
  {
   "cell_type": "markdown",
   "metadata": {},
   "source": [
    "# Ali Muhammad\n",
    "# 19B-099-SE\n",
    "# SEC A"
   ]
  },
  {
   "cell_type": "code",
   "execution_count": 9,
   "metadata": {},
   "outputs": [
    {
     "name": "stdout",
     "output_type": "stream",
     "text": [
      "7\n",
      "16.0\n",
      "5\n",
      "24\n",
      "59049\n",
      "3\n"
     ]
    },
    {
     "data": {
      "text/plain": [
       "29.95"
      ]
     },
     "execution_count": 9,
     "metadata": {},
     "output_type": "execute_result"
    }
   ],
   "source": [
    "#Ex 2.1\n",
    "\n",
    "# A\n",
    "num=0+1+2+4\n",
    "print(num)\n",
    "\n",
    "# B\n",
    "ali = 19\n",
    "khan = 25\n",
    "sham = 4\n",
    "avg =((ali+khan+sham)/3)\n",
    "print(avg)\n",
    "\n",
    "# C\n",
    "a=73\n",
    "b=403\n",
    "c=b//a\n",
    "print(c)\n",
    "\n",
    "# D\n",
    "a=48\n",
    "b=360\n",
    "d=b%a\n",
    "print(d)\n",
    "\n",
    "# E\n",
    "x=3**10\n",
    "print(x)\n",
    "\n",
    "# F\n",
    "khan=5.7\n",
    "zara=5.4\n",
    "avg_height=khan-zara\n",
    "print(avg_height)\n",
    "\n",
    "# G\n",
    "p1=34.99\n",
    "p2=29.95\n",
    "p3=31.50\n",
    "min(p1,p2,p3)"
   ]
  },
  {
   "cell_type": "code",
   "execution_count": 2,
   "metadata": {},
   "outputs": [
    {
     "name": "stdout",
     "output_type": "stream",
     "text": [
      "25\n"
     ]
    }
   ],
   "source": [
    "#Exercise 2.3\n",
    "\n",
    "a= 3\n",
    "b= 4\n",
    "c= a*a + b*b\n",
    "print(c)"
   ]
  },
  {
   "cell_type": "code",
   "execution_count": 56,
   "metadata": {},
   "outputs": [
    {
     "name": "stdout",
     "output_type": "stream",
     "text": [
      "False\n",
      "True\n",
      "True\n",
      "False\n",
      "True\n",
      "False\n",
      "True\n"
     ]
    }
   ],
   "source": [
    "#Exercise 2.2\n",
    "\n",
    "#A\n",
    "\n",
    "a= 2+2\n",
    "a<4\n",
    "print(a<4)\n",
    "\n",
    "#B\n",
    "\n",
    "a= 7//3\n",
    "b= 1+1\n",
    "sum= a==b\n",
    "print(sum)\n",
    "\n",
    "#C\n",
    "\n",
    "a=3**2\n",
    "b=4**2\n",
    "sum=a+b\n",
    "e= sum==25\n",
    "print(e)\n",
    "\n",
    "#D\n",
    "\n",
    "sum=2+4+6 \n",
    "sum>12\n",
    "print(sum>12)\n",
    "\n",
    "#E\n",
    "\n",
    "a=1387\n",
    "b= 19\n",
    "d= 1387%19\n",
    "e= d==0\n",
    "print(e)\n",
    "\n",
    "#F\n",
    "\n",
    "a=31 % 2\n",
    "even= a==0\n",
    "print(even)\n",
    "\n",
    "#G\n",
    "\n",
    "a= 34.99 #Dollars\n",
    "b= 29.95 #Dollars\n",
    "c= 31.50 #Dollars\n",
    "min(a,b,c)\n",
    "if min(a,b,c)<30:\n",
    "    print(\"True\")\n",
    "else:\n",
    "    print(\"False\")"
   ]
  },
  {
   "cell_type": "code",
   "execution_count": 75,
   "metadata": {},
   "outputs": [
    {
     "name": "stdout",
     "output_type": "stream",
     "text": [
      "antbatcod\n",
      "('ant', 'bat', 'cod')\n",
      "antantantantantantantantantant\n",
      "antantantantantantantantantant\n",
      "ant batbat codcodcod\n",
      "antbatbatbatbatcodcodcodcodcodcodcodcodcod\n",
      "('ant', 'bad', 'ant', 'bad', 'ant', 'bad', 'ant', 'bad', 'ant', 'bad', 'ant', 'bad', 'ant', 'bad')\n",
      "batbatcodbatbatcodbatbatcodbatbatcodbatbatcod\n",
      "\n",
      "\t\n",
      "batbatbatbatcodcodcodbatbatbatbatcodcodcodbatbatbatbatcodcodcodbatbatbatbatcodcodcodbatbatbatbatcodcodcod\n"
     ]
    }
   ],
   "source": [
    "#Exercise 2.4\n",
    "\n",
    "s1=('ant')\n",
    "s2=('bat')\n",
    "s3=('cod')\n",
    "C=(s1+s2+s3)\n",
    "print(C)\n",
    "\n",
    "\n",
    "S1=(s1,s2,s3)*1\n",
    "print(S1)\n",
    "s1=('ant')*10\n",
    "print(s1)\n",
    "\n",
    "\n",
    "a=('ant')\n",
    "print(a+a+a+a+a+a+a+a+a+a)\n",
    "s1=('ant')*1\n",
    "s2=('bat')*2\n",
    "s3=('cod')*3\n",
    "print(s1,s2,s3)\n",
    "\n",
    "\n",
    "B=(s1+s2+s2+s3+s3+s3)\n",
    "print(B)\n",
    "s=('ant','bad')*7\n",
    "print(s)\n",
    "a=(s1+s1+s1+s1+s1+s1+s1+s2+s2+s2+s2+s2+s2+s2)\n",
    "X=('batbatcod')*5\n",
    "print(X)\n",
    "\n",
    "print(\"\\n\\t\")\n",
    "\n",
    "Z=((s2*2)+s3)+((s2*2)+s3)+((s2*2)+s3)+((s2*2)+s3)+((s2*2)+s3)\n",
    "print(Z)"
   ]
  },
  {
   "cell_type": "code",
   "execution_count": 71,
   "metadata": {},
   "outputs": [
    {
     "name": "stdout",
     "output_type": "stream",
     "text": [
      "0\n",
      "1\n",
      "6\n",
      "8\n",
      "9\n"
     ]
    }
   ],
   "source": [
    "#Exercise 2.5\n",
    "\n",
    "s=(\"0123456789\")\n",
    "\n",
    "#A\n",
    "print(s[0])\n",
    "#B\n",
    "print(s[1])\n",
    "#C\n",
    "print(s[6])\n",
    "#D\n",
    "print(s[8])\n",
    "#E\n",
    "print(s[9])"
   ]
  },
  {
   "cell_type": "code",
   "execution_count": 74,
   "metadata": {},
   "outputs": [
    {
     "data": {
      "text/plain": [
       "{('bat', 'ball', 'barn', 'basket', 'badminton')}"
      ]
     },
     "execution_count": 74,
     "metadata": {},
     "output_type": "execute_result"
    }
   ],
   "source": [
    "#Exercise 2.6\n",
    "\n",
    "a=(\"bat\",\"ball\",\"barn\",\"basket\",\"badminton\")\n",
    "{a}"
   ]
  },
  {
   "cell_type": "code",
   "execution_count": 73,
   "metadata": {},
   "outputs": [
    {
     "name": "stdout",
     "output_type": "stream",
     "text": [
      "2\n",
      "4\n",
      "10\n",
      "None\n",
      "6.777777777777778\n"
     ]
    }
   ],
   "source": [
    "#Exercise 2.7\n",
    "\n",
    "grades=[9,7,7,10,3,9,6,6,2]\n",
    "#(a)\n",
    "a=grades.count(7)\n",
    "print(a)\n",
    "#(b)\n",
    "a=grades[-1]=4\n",
    "print(a)\n",
    "#(c)\n",
    "a=max(grades)\n",
    "print(a)\n",
    "#d\n",
    "a=grades.sort()\n",
    "print(a)\n",
    "#e\n",
    "import statistics\n",
    "print(statistics.mean(grades))"
   ]
  },
  {
   "cell_type": "code",
   "execution_count": 76,
   "metadata": {},
   "outputs": [
    {
     "name": "stdout",
     "output_type": "stream",
     "text": [
      "<class 'int'>\n",
      "<class 'float'>\n",
      "<class 'int'>\n",
      "<class 'bool'>\n"
     ]
    }
   ],
   "source": [
    "#Exercise 2.9\n",
    "\n",
    "a=False+False\n",
    "print(type(a))\n",
    "(b)\n",
    "b=2*3**2.0\n",
    "print(type(b))\n",
    "(c)\n",
    "c=4//2+4%2\n",
    "print(type(c))\n",
    "d=2+3==4 or 5 >=5\n",
    "print(type(d))"
   ]
  },
  {
   "cell_type": "code",
   "execution_count": 78,
   "metadata": {},
   "outputs": [
    {
     "name": "stdout",
     "output_type": "stream",
     "text": [
      "6.708203932499369\n",
      "The value of hypotenuse is not 5\n",
      "314.1592653589793 sq.meter\n",
      "False\n",
      "False\n"
     ]
    }
   ],
   "source": [
    "#Exercise 2.10\n",
    "\n",
    "# A\n",
    "import math\n",
    "a=3\n",
    "b=6\n",
    "c=a**2+b**2\n",
    "d=math.sqrt(c)\n",
    "print(d)\n",
    "\n",
    "# B\n",
    "if d==5:\n",
    "    print(\"The value of hypotenuse is 5\")\n",
    "else:\n",
    "    print(\"The value of hypotenuse is not 5\")\n",
    "    \n",
    "# C\n",
    "from math import pi\n",
    "a=10\n",
    "A=pi*a**2\n",
    "print(A,str('sq.meter'))\n",
    "\n",
    "# D\n",
    "r=10\n",
    "x=2\n",
    "y=1\n",
    "a=x+y==r\n",
    "b=x**2+y**2==r**2\n",
    "print(a)\n",
    "print(b)"
   ]
  },
  {
   "cell_type": "code",
   "execution_count": 86,
   "metadata": {},
   "outputs": [
    {
     "name": "stdout",
     "output_type": "stream",
     "text": [
      "[-28]\n",
      "127.76470588235294\n",
      "9.5367431640625e-07\n",
      "71\n"
     ]
    }
   ],
   "source": [
    "#Exercise 2.11\n",
    "\n",
    "lst=[-7-6-5-4-3-2-1]\n",
    "print(lst)\n",
    "average_age = 9*17+24*10+21*11+27*12\n",
    "x = average1 = average_age/17+24+21+27\n",
    "print(average1)\n",
    "a=2**-20\n",
    "print(a)\n",
    "b= 4356//61\n",
    "print(b)\n",
    "c= 4365%61"
   ]
  },
  {
   "cell_type": "code",
   "execution_count": 89,
   "metadata": {},
   "outputs": [
    {
     "name": "stdout",
     "output_type": "stream",
     "text": [
      "+-\n",
      "-+-\n",
      "+--\n",
      "+--+--\n",
      "+--+--+--+--+--\n"
     ]
    }
   ],
   "source": [
    "#Exercise 2.12\n",
    "\n",
    "a= '+'\n",
    "b= '-'\n",
    "print(a+b)\n",
    "print(b+a+b)\n",
    "print(a+b+b)\n",
    "print(a+b+b+a+b+b)\n",
    "print(a+b+b+a+b+b+a+b+b+a+b+b+a+b+b)"
   ]
  },
  {
   "cell_type": "code",
   "execution_count": 90,
   "metadata": {},
   "outputs": [
    {
     "name": "stdout",
     "output_type": "stream",
     "text": [
      "a\n",
      "c\n",
      "y\n",
      "z\n",
      "q\n"
     ]
    }
   ],
   "source": [
    "#Exercise 2.13\n",
    "\n",
    "s= 'abcdefghijklmnopqrstuvwxyz'\n",
    "print(s[0])\n",
    "print(s[2])\n",
    "print(s[24])\n",
    "print(s[25])\n",
    "print(s[16])"
   ]
  },
  {
   "cell_type": "code",
   "execution_count": 92,
   "metadata": {},
   "outputs": [
    {
     "name": "stdout",
     "output_type": "stream",
     "text": [
      "True\n",
      "False\n",
      "False\n",
      "False\n",
      "True\n",
      "False\n",
      "False\n"
     ]
    }
   ],
   "source": [
    "#Exercise 2.14\n",
    "\n",
    "s= 'goodbye'\n",
    "print(s[0]=='g')\n",
    "print(s[6]=='g')\n",
    "print(s[0]=='g' and s[1]=='a')\n",
    "print(s[-2]=='x')\n",
    "print(s[3]=='d')\n",
    "print(s[0]==s[1])\n",
    "print(s[1]+s[2]+s[3]+s[4]=='tion')"
   ]
  },
  {
   "cell_type": "code",
   "execution_count": 96,
   "metadata": {},
   "outputs": [
    {
     "name": "stdout",
     "output_type": "stream",
     "text": [
      "9.5\n"
     ]
    }
   ],
   "source": [
    "#Exercise 2.16\n",
    "\n",
    "#A\n",
    "a=6\n",
    "b=7\n",
    "average=(a+b/2)\n",
    "print(average)\n",
    "\n",
    "#B"
   ]
  },
  {
   "cell_type": "code",
   "execution_count": 32,
   "metadata": {},
   "outputs": [
    {
     "name": "stdout",
     "output_type": "stream",
     "text": [
      "Number of characters : 17\n",
      "The number of characters: 14\n",
      "dictionary gives the word in this order\n",
      "['misinterpretation', 'misrepresentation']\n",
      "Not available\n",
      "The number of characters are: 17\n",
      "The number of characters are: 10\n"
     ]
    }
   ],
   "source": [
    "#Exercise 2.15\n",
    "\n",
    "#A\n",
    "\n",
    "first=len(\"anachronistically\")\n",
    "second=len(\"counterintuitive\")\n",
    "\n",
    "if first > second:\n",
    "    print(\"Numbers of character is one time greater in 'anachronistically'\")\n",
    "else:\n",
    "    print(\"Number of characters are same\")\n",
    "    \n",
    "\n",
    "print(\"\\n\\t\\n\\t\")\n",
    "\n",
    "#B  \n",
    "    \n",
    "\n",
    "Word = { 'misinterpretation': 85, 'misrepresentation': 90 }\n",
    "print(Word)\n",
    "\n",
    "\n",
    "print(\"\\n\\t\\n\\t\")\n",
    "\n",
    "#C\n",
    "\n",
    "Characters=\"floccinaucinihilipilification\"\n",
    "find=\"e\"\n",
    "if find in Characters:\n",
    "      print(\"Available\")\n",
    "else:\n",
    "      print(\"Not available\")\n",
    "        \n",
    "\n",
    "print(\"\\n\\t\\n\\t\")\n",
    "\n",
    "#Programming Exercise : 05-d        \n",
    "\n",
    "summ=len(\"counterrevolution\")\n",
    "first=len(\"counter\")\n",
    "second=len(\"resolution\")\n",
    "tsum=first+second\n",
    "\n",
    "if summ == tsum:\n",
    "    print(\"Sum of the characters are equal\")\n",
    "else:\n",
    "    print(\"Sum of the characters are not equal\")"
   ]
  },
  {
   "cell_type": "code",
   "execution_count": 23,
   "metadata": {},
   "outputs": [
    {
     "name": "stdout",
     "output_type": "stream",
     "text": [
      "John Fitzgerald Kennedy\n"
     ]
    }
   ],
   "source": [
    "#Exercise 2.16\n",
    "\n",
    "a,b =6,7\n",
    "c = (a+b)/2\n",
    "inventory = [\"paper\",\"staples\",\"pencils\"]\n",
    "first, middle, last = \"John\",\"Fitzgerald\",\"Kennedy\"\n",
    "fullname = first+\" \"+middle+\" \"+last\n",
    "print(fullname)"
   ]
  },
  {
   "cell_type": "code",
   "execution_count": 25,
   "metadata": {},
   "outputs": [
    {
     "name": "stdout",
     "output_type": "stream",
     "text": [
      "True\n",
      "False\n",
      "True\n",
      "False\n",
      "False\n",
      "False\n"
     ]
    }
   ],
   "source": [
    "#Exercise 2.17\n",
    "\n",
    "a=7-9 < 10\n",
    "print(a)\n",
    "b=len(inventory) > 5*len(fullname)\n",
    "print(b)\n",
    "c=c <= 24\n",
    "print(c)\n",
    "d=(6.75 < a and 6.75 > b) or (6.75 < b and 6.75 > a)\n",
    "print(d)\n",
    "e=len(middle) > len(first) and len(middle) < len(last)\n",
    "print(e)\n",
    "f=len(inventory)==0 or len(inventory) > 10\n",
    "print(f)"
   ]
  },
  {
   "cell_type": "code",
   "execution_count": 26,
   "metadata": {},
   "outputs": [
    {
     "name": "stdout",
     "output_type": "stream",
     "text": [
      "a) ['rose', 'bougainvillea', 'yucca', 'marigold', 'daylilly', 'liiy of the valley']\n",
      "b) False\n",
      "c) ['rose', 'bougainvillea', 'yucca']\n",
      "d) liiy of the valley\n"
     ]
    }
   ],
   "source": [
    "#Exercise 2.18\n",
    "\n",
    "flowers = ['rose','bougainvillea','yucca','marigold','daylilly','liiy of the valley']\n",
    "print('a)',flowers)\n",
    "print('b)','potato' in flowers)\n",
    "thorny=flowers[:3]\n",
    "print('c)',thorny)\n",
    "poisnous = flowers[-1]\n",
    "print('d)',poisnous)\n",
    "dangerous = [thorny] + [poisnous]"
   ]
  },
  {
   "cell_type": "code",
   "execution_count": 27,
   "metadata": {},
   "outputs": [
    {
     "name": "stdout",
     "output_type": "stream",
     "text": [
      "a) 0\n",
      "b) 6\n",
      "c) 0.0 %\n",
      "d) ['N', 'N', 'N', 'N', 'N', 'N', 'Y', 'Y', 'Y', 'Y', 'Y']\n",
      "e) at 6 Y will occur for the first time\n"
     ]
    }
   ],
   "source": [
    "#exercise no 2.19\n",
    "\n",
    "answers = ['Y','N','N','Y','N','Y','Y','Y','N','N','N']\n",
    "numYes=answers.count('y')\n",
    "print('a)',numYes)\n",
    "numNo=answers.count('N')\n",
    "print('b)',numNo)\n",
    "percentYes=(numYes/len(answers))*100\n",
    "print('c)',percentYes,'%')\n",
    "answers.sort()\n",
    "print('d)',answers)\n",
    "f=answers.count('N')\n",
    "print('e)',\"at\",f,answers[f],\"will occur for the first time\")"
   ]
  },
  {
   "cell_type": "code",
   "execution_count": 30,
   "metadata": {},
   "outputs": [
    {
     "name": "stdout",
     "output_type": "stream",
     "text": [
      "top\n"
     ]
    }
   ],
   "source": [
    "#Execise 2.20\n",
    "\n",
    "s='pot'\n",
    "print(s[::-1])\n"
   ]
  },
  {
   "cell_type": "code",
   "execution_count": 29,
   "metadata": {},
   "outputs": [
    {
     "name": "stdout",
     "output_type": "stream",
     "text": [
      "AK\n"
     ]
    }
   ],
   "source": [
    "#Execise 2.21\n",
    "\n",
    "s = 'Ahsan'\n",
    "t = 'Khursheed'\n",
    "print(s[0]+t[0])"
   ]
  },
  {
   "cell_type": "code",
   "execution_count": 31,
   "metadata": {},
   "outputs": [
    {
     "name": "stdout",
     "output_type": "stream",
     "text": [
      "14\n"
     ]
    }
   ],
   "source": [
    "#Exercise 2.22\n",
    "lst = [3,7,-2,12]\n",
    "print(max(lst)-min(lst))"
   ]
  },
  {
   "cell_type": "code",
   "execution_count": 33,
   "metadata": {},
   "outputs": [
    {
     "name": "stdout",
     "output_type": "stream",
     "text": [
      "['Jan', 'Feb', 'Mar', 'Apr', 'May']\n",
      "\n",
      "\t\n",
      "['Jan', 'Feb', 'Mar', 'May', 'Jun']\n",
      "\n",
      "\t\n",
      "['Jan', 'Feb', 'Mar']\n",
      "['Jan', 'Feb', 'Mar']\n",
      "\n",
      "\t\n",
      "['Jan', 'Feb', 'May']\n",
      "['Jan', 'Feb', 'May']\n",
      "\n",
      "\t\n",
      "['May', 'Mar', 'Feb', 'Jan']\n",
      "['May', 'Mar', 'Feb', 'Jan']\n",
      "\n",
      "\t\n",
      "['Feb', 'Jan', 'Mar', 'May']\n",
      "['Feb', 'Jan', 'Mar', 'May']\n"
     ]
    }
   ],
   "source": [
    "#Exercise 2.23\n",
    "\n",
    "#Programming Exercise : 04-a\n",
    "\n",
    "monthsL=['Jan','Feb','Mar','May']\n",
    "monthsT=['Jan','Feb','Mar','May']\n",
    "monthsT.insert(3,\"Apr\")\n",
    "print(monthsT)\n",
    "\n",
    "print(\"\\n\\t\")\n",
    "\n",
    "#Programming Exercise : 04-b\n",
    "\n",
    "monthsL=['Jan','Feb','Mar','May']\n",
    "monthsT=['Jan','Feb','Mar','May']\n",
    "monthsT.append(\"Jun\")\n",
    "print(monthsT)\n",
    "\n",
    "print(\"\\n\\t\")\n",
    "\n",
    "#Programming Exercise : 04-c\n",
    "\n",
    "monthsL=['Jan','Feb','Mar','May']\n",
    "monthsT=['Jan','Feb','Mar','May']\n",
    "monthsL.pop()\n",
    "monthsT.pop()\n",
    "print(monthsL)\n",
    "print(monthsT)\n",
    "\n",
    "print(\"\\n\\t\")\n",
    "\n",
    "#Programming Exercise : 04-c\n",
    "\n",
    "monthsL=['Jan','Feb','Mar','May']\n",
    "monthsT=['Jan','Feb','Mar','May']\n",
    "del monthsT[2]\n",
    "del monthsL[2]\n",
    "print(monthsT)\n",
    "print(monthsL)\n",
    "\n",
    "print(\"\\n\\t\")\n",
    "\n",
    "#Programming Exercise : 04-d\n",
    "\n",
    "monthsL=['Jan','Feb','Mar','May']\n",
    "monthsT=['Jan','Feb','Mar','May']\n",
    "monthsL.reverse()\n",
    "monthsT.reverse()\n",
    "print(monthsL)\n",
    "print(monthsT)\n",
    "\n",
    "print(\"\\n\\t\")\n",
    "\n",
    "#Programming Exercise : 04-e\n",
    "\n",
    "monthsL=['Jan','Feb','Mar','May']\n",
    "monthsT=['Jan','Feb','Mar','May']\n",
    "monthsL.sort()\n",
    "monthsT.sort()\n",
    "print(monthsL)\n",
    "print(monthsT)"
   ]
  },
  {
   "cell_type": "code",
   "execution_count": 34,
   "metadata": {},
   "outputs": [
    {
     "data": {
      "text/plain": [
       "[2, 3, 4, 5, 6]"
      ]
     },
     "execution_count": 34,
     "metadata": {},
     "output_type": "execute_result"
    }
   ],
   "source": [
    "#Exercise 2.31\n",
    "\n",
    "lst=[2,3,4]\n",
    "lst.extend([5,6])\n",
    "lst\n",
    "[2,3,4,5,6]\n",
    "lst2=lst.copy()\n",
    "lst2\n",
    "[2,3,4,5,6]\n",
    "lst.clear()\n",
    "lst\n",
    "[]\n",
    "lst2\n",
    "[2,3,4,5,6]"
   ]
  },
  {
   "cell_type": "code",
   "execution_count": 35,
   "metadata": {},
   "outputs": [
    {
     "name": "stdout",
     "output_type": "stream",
     "text": [
      "2\n",
      "\n",
      "\t\n",
      "3\n",
      "\n",
      "\t\n",
      "['5', '4', '3', '2', '1']\n",
      "\n",
      "\t\n",
      "['4', '3', '2', '1', '1']\n"
     ]
    }
   ],
   "source": [
    "#Exercise 2.28\n",
    "\n",
    "#Programming Exercise : 03-a\n",
    "\n",
    "list=['1','2','3','4','5']\n",
    "\n",
    "print(list.index('3'))\n",
    "\n",
    "print(\"\\n\\t\")\n",
    "\n",
    "#Programming Exercise : 03-b\n",
    "\n",
    "print(list[2])\n",
    "\n",
    "print(\"\\n\\t\")\n",
    "\n",
    "#Programming Exercise : 03-c\n",
    "\n",
    "list.sort(reverse=True)\n",
    "print(list)\n",
    "\n",
    "print(\"\\n\\t\")\n",
    "\n",
    "#Programming Exercise : 03-d\n",
    "\n",
    "list.remove(list[0])\n",
    "list.insert(4,'1')\n",
    "print(list)"
   ]
  },
  {
   "cell_type": "code",
   "execution_count": 36,
   "metadata": {},
   "outputs": [
    {
     "name": "stdout",
     "output_type": "stream",
     "text": [
      "Enter Length of the Ladder : 3\n",
      "Enter Angle of the Ladder : 5\n",
      "The height of the Ladder is : 0.2614672282429745\n",
      "\n",
      "\t\n",
      "\t\n",
      "1.3091666666666666\n",
      "\n",
      "\t\n",
      "0.0\n",
      "\n",
      "\t\n",
      "0.7855\n",
      "\n",
      "\t\n",
      "1.3964444444444444\n"
     ]
    }
   ],
   "source": [
    "#Exercise : 2.27\n",
    "\n",
    "#Programming Exercise : 02\n",
    "\n",
    "import math\n",
    "hyp = float(input(\"Enter Length of the Ladder : \"))\n",
    "theta = float(input(\"Enter Angle of the Ladder : \"))\n",
    "rad = math.pi * (theta)/180\n",
    "perp = hyp * math.sin(rad)\n",
    "print (\"The height of the Ladder is :\", perp)\n",
    "\n",
    "\n",
    "print(\"\\n\\t\\n\\t\")\n",
    "\n",
    "#Programming Exercise : 02-a\n",
    "\n",
    "length1=16\n",
    "degrees1=75\n",
    "radians1=(3.142*degrees1)/180\n",
    "print(radians1)\n",
    "\n",
    "\n",
    "print(\"\\n\\t\")\n",
    "\n",
    "#Programming Exercise : 02-b\n",
    "\n",
    "length2=20\n",
    "degrees2=0\n",
    "radians2=(3.142*degrees2)/180\n",
    "print(radians2)\n",
    "\n",
    "\n",
    "print(\"\\n\\t\")\n",
    "\n",
    "#Programming Exercise : 02-c\n",
    "\n",
    "length3=24\n",
    "degrees3=45\n",
    "radians3=(3.142*degrees3)/180\n",
    "print(radians3)\n",
    "\n",
    "\n",
    "print(\"\\n\\t\")\n",
    "\n",
    "#Programming Exercise : 02-d\n",
    "\n",
    "length4=24\n",
    "degrees4=80\n",
    "radians4=(3.142*degrees4)/180\n",
    "print(radians4)"
   ]
  },
  {
   "cell_type": "code",
   "execution_count": 39,
   "metadata": {},
   "outputs": [
    {
     "name": "stdout",
     "output_type": "stream",
     "text": [
      "['B', 'B', 'F', 'C', 'B', 'A', 'A', 'D', 'C', 'D', 'A', 'A', 'B']\n"
     ]
    }
   ],
   "source": [
    "#Exercise : 2.25  #NOT READY\n",
    "\n",
    "grades = ['B','B','F','C','B','A','A','D','C','D','A','A','B'] \n",
    "\n",
    "grades.count(1)\n",
    "print(grades)"
   ]
  },
  {
   "cell_type": "code",
   "execution_count": null,
   "metadata": {},
   "outputs": [],
   "source": []
  }
 ],
 "metadata": {
  "kernelspec": {
   "display_name": "Python 3",
   "language": "python",
   "name": "python3"
  },
  "language_info": {
   "codemirror_mode": {
    "name": "ipython",
    "version": 3
   },
   "file_extension": ".py",
   "mimetype": "text/x-python",
   "name": "python",
   "nbconvert_exporter": "python",
   "pygments_lexer": "ipython3",
   "version": "3.7.3"
  }
 },
 "nbformat": 4,
 "nbformat_minor": 2
}
